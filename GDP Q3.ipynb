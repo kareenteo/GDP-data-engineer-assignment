{
 "cells": [
  {
   "cell_type": "code",
   "execution_count": 1,
   "metadata": {
    "collapsed": true
   },
   "outputs": [],
   "source": [
    "import pandas as pd"
   ]
  },
  {
   "cell_type": "code",
   "execution_count": 2,
   "metadata": {
    "collapsed": true
   },
   "outputs": [],
   "source": [
    "#3a)\n",
    "data = pd.read_csv('data job posts.csv')"
   ]
  },
  {
   "cell_type": "code",
   "execution_count": 3,
   "metadata": {
    "collapsed": true
   },
   "outputs": [],
   "source": [
    "#3b)\n",
    "df=pd.DataFrame({'Job Title':data['Title'],\\\n",
    "               'Position Duration': data['Duration'],\\\n",
    "               'Position Location':data['Location'],\\\n",
    "               'Job Description':data['JobDescription'],\\\n",
    "               'Job Responsibilities':data['JobRequirment'],\\\n",
    "               'Required Qualifications':data['RequiredQual'],\\\n",
    "               'Remuneration':data['Salary'],\\\n",
    "               'Application Deadline':data['Deadline'],\\\n",
    "               'About Company':data['AboutC']})"
   ]
  },
  {
   "cell_type": "code",
   "execution_count": 4,
   "metadata": {},
   "outputs": [
    {
     "data": {
      "text/plain": [
       "'Mentor Graphics Development Services CJSC'"
      ]
     },
     "execution_count": 4,
     "metadata": {},
     "output_type": "execute_result"
    }
   ],
   "source": [
    "#3c) Identify the company with the most number of job ads in the past 2 years\n",
    "df3_c=data[(data['Year']==2014)|(data['Year']==2015)]\n",
    "df3_c1 = df3_c.groupby(['Company']).size().reset_index(name=\"Count\")\n",
    "df3_c1.sort_values('Count',ascending=False)[\"Company\"].iloc[0]"
   ]
  },
  {
   "cell_type": "code",
   "execution_count": 33,
   "metadata": {},
   "outputs": [
    {
     "data": {
      "text/plain": [
       "3"
      ]
     },
     "execution_count": 33,
     "metadata": {},
     "output_type": "execute_result"
    }
   ],
   "source": [
    "#3d) Identify the month with the largest number of job ads over the years\n",
    "df3_d=data.groupby(['Month']).size().reset_index(name='count')\n",
    "df3_d.sort_values('count',ascending=False)[\"Month\"].iloc[0]"
   ]
  }
 ],
 "metadata": {
  "kernelspec": {
   "display_name": "Python 3",
   "language": "python",
   "name": "python3"
  },
  "language_info": {
   "codemirror_mode": {
    "name": "ipython",
    "version": 3
   },
   "file_extension": ".py",
   "mimetype": "text/x-python",
   "name": "python",
   "nbconvert_exporter": "python",
   "pygments_lexer": "ipython3",
   "version": "3.6.1"
  }
 },
 "nbformat": 4,
 "nbformat_minor": 2
}
